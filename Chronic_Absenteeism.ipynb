{
  "nbformat": 4,
  "nbformat_minor": 0,
  "metadata": {
    "colab": {
      "name": "Chronic_Absenteeism.ipynb",
      "provenance": [],
      "collapsed_sections": [
        "TBCWB_KFk6bK"
      ],
      "authorship_tag": "ABX9TyPn5biqB8Us7Qw9qsavu91i",
      "include_colab_link": true
    },
    "kernelspec": {
      "name": "python3",
      "display_name": "Python 3"
    }
  },
  "cells": [
    {
      "cell_type": "markdown",
      "metadata": {
        "id": "view-in-github",
        "colab_type": "text"
      },
      "source": [
        "<a href=\"https://colab.research.google.com/github/tianchu-shu/Deep_Learning_Project/blob/master/Chronic_Absenteeism.ipynb\" target=\"_parent\"><img src=\"https://colab.research.google.com/assets/colab-badge.svg\" alt=\"Open In Colab\"/></a>"
      ]
    },
    {
      "cell_type": "code",
      "metadata": {
        "id": "bYvRxmh5_1IA",
        "colab_type": "code",
        "colab": {}
      },
      "source": [
        "from google.colab import drive\n",
        "import matplotlib.pyplot as plt"
      ],
      "execution_count": 0,
      "outputs": []
    },
    {
      "cell_type": "code",
      "metadata": {
        "id": "KaXLzxzp_3yq",
        "colab_type": "code",
        "outputId": "c9328d12-7c44-476e-8072-86854ef31928",
        "colab": {
          "base_uri": "https://localhost:8080/",
          "height": 54
        }
      },
      "source": [
        "drive.mount('/content/gdrive')"
      ],
      "execution_count": 2,
      "outputs": [
        {
          "output_type": "stream",
          "text": [
            "Drive already mounted at /content/gdrive; to attempt to forcibly remount, call drive.mount(\"/content/gdrive\", force_remount=True).\n"
          ],
          "name": "stdout"
        }
      ]
    },
    {
      "cell_type": "code",
      "metadata": {
        "id": "63EAGOYVgSET",
        "colab_type": "code",
        "outputId": "95f3b48e-921c-4ee0-baff-7e70241d069e",
        "colab": {
          "base_uri": "https://localhost:8080/",
          "height": 102
        }
      },
      "source": [
        "!ls /content/gdrive/My\\ Drive/Chronic_absenteeism_letter/"
      ],
      "execution_count": 3,
      "outputs": [
        {
          "output_type": "stream",
          "text": [
            " 2018249.pdf   'Chronic Absence - Absence List Import.csv'\n",
            " 50000072.pdf  'Chronic Absence Letter #1 - Jan '\\''20.docx'\n",
            " 50000275.pdf  'Chronic Absence.xlsx'\n",
            " 50252756.pdf   Chronic_Absenteeism.ipynb\n",
            " 50353442.pdf\n"
          ],
          "name": "stdout"
        }
      ]
    },
    {
      "cell_type": "code",
      "metadata": {
        "id": "H6CGhmfEp1G1",
        "colab_type": "code",
        "colab": {
          "base_uri": "https://localhost:8080/",
          "height": 34
        },
        "outputId": "3e06c379-9142-48a1-ddbe-b6fcf29f2ead"
      },
      "source": [
        "data_dir"
      ],
      "execution_count": 36,
      "outputs": [
        {
          "output_type": "execute_result",
          "data": {
            "text/plain": [
              "'/content/gdrive/My Drive/Chronic_absenteeism_letter/'"
            ]
          },
          "metadata": {
            "tags": []
          },
          "execution_count": 36
        }
      ]
    },
    {
      "cell_type": "markdown",
      "metadata": {
        "colab_type": "text",
        "id": "wVTnEqIhFfFU"
      },
      "source": [
        "# Load the sample Data"
      ]
    },
    {
      "cell_type": "code",
      "metadata": {
        "id": "q6Nqw2cvgDnO",
        "colab_type": "code",
        "outputId": "55a7736e-af8f-4a0c-9473-5d0688549877",
        "colab": {
          "base_uri": "https://localhost:8080/",
          "height": 102
        }
      },
      "source": [
        "import pandas as pd\n",
        "import glob, os\n",
        "\n",
        "data_dir= '/content/gdrive/My Drive/Chronic_absenteeism_letter/'\n",
        "filename = 'Chronic Absence.xlsx'\n",
        "os.chdir(data_dir)\n",
        "\n",
        "df=pd.read_excel(filename)\n",
        "\n",
        "print(\"Column headings:\")\n",
        "print(df.columns)\n"
      ],
      "execution_count": 4,
      "outputs": [
        {
          "output_type": "stream",
          "text": [
            "Column headings:\n",
            "Index(['NameOfInstitution', 'StudentUniqueID', 'LastSurname', 'FirstName',\n",
            "       'GradeLevel', 'NumberOfSchoolTardies', 'NumberOfTotalAbsences',\n",
            "       'Average Absence'],\n",
            "      dtype='object')\n"
          ],
          "name": "stdout"
        }
      ]
    },
    {
      "cell_type": "code",
      "metadata": {
        "id": "lGtQDwbChVYv",
        "colab_type": "code",
        "colab": {}
      },
      "source": [
        "dname=pd.read_excel(filename, sheet_name='Images  & PrincipalTable')"
      ],
      "execution_count": 0,
      "outputs": []
    },
    {
      "cell_type": "code",
      "metadata": {
        "id": "K6RTBVLzyUYG",
        "colab_type": "code",
        "outputId": "a9bf9c04-216d-4fcf-822f-2875e40f754c",
        "colab": {
          "base_uri": "https://localhost:8080/",
          "height": 68
        }
      },
      "source": [
        "df.NameOfInstitution.unique()"
      ],
      "execution_count": 6,
      "outputs": [
        {
          "output_type": "execute_result",
          "data": {
            "text/plain": [
              "array(['Prairie', 'Bucktown', 'Distinctive College Prep Harper Woods',\n",
              "       'Distinctive College Prep Redford', 'West Belden', 'Irving Park'],\n",
              "      dtype=object)"
            ]
          },
          "metadata": {
            "tags": []
          },
          "execution_count": 6
        }
      ]
    },
    {
      "cell_type": "code",
      "metadata": {
        "id": "6WpoRhXav7Nz",
        "colab_type": "code",
        "colab": {}
      },
      "source": [
        "schoolname = {'Prairie':'CICS Prairie', 'Bucktown':'CICS Bucktown', 'Distinctive College Prep Harper Woods':'DCP Harper Woods',\n",
        "       'Distinctive College Prep Redford':'DCP Redford', 'West Belden':'CICS West Belden', 'Irving Park':'CICS Irving Park'}"
      ],
      "execution_count": 0,
      "outputs": []
    },
    {
      "cell_type": "code",
      "metadata": {
        "id": "s8RKNXZv3boa",
        "colab_type": "code",
        "colab": {}
      },
      "source": [
        "df['NameOfInstitution'] = df['NameOfInstitution'].map(schoolname)"
      ],
      "execution_count": 0,
      "outputs": []
    },
    {
      "cell_type": "code",
      "metadata": {
        "id": "GvyS-_8KHg0W",
        "colab_type": "code",
        "outputId": "4ce5b963-0e63-4737-efcc-0c8eb6b097ba",
        "colab": {
          "base_uri": "https://localhost:8080/",
          "height": 241
        }
      },
      "source": [
        "df.head()"
      ],
      "execution_count": 9,
      "outputs": [
        {
          "output_type": "execute_result",
          "data": {
            "text/html": [
              "<div>\n",
              "<style scoped>\n",
              "    .dataframe tbody tr th:only-of-type {\n",
              "        vertical-align: middle;\n",
              "    }\n",
              "\n",
              "    .dataframe tbody tr th {\n",
              "        vertical-align: top;\n",
              "    }\n",
              "\n",
              "    .dataframe thead th {\n",
              "        text-align: right;\n",
              "    }\n",
              "</style>\n",
              "<table border=\"1\" class=\"dataframe\">\n",
              "  <thead>\n",
              "    <tr style=\"text-align: right;\">\n",
              "      <th></th>\n",
              "      <th>NameOfInstitution</th>\n",
              "      <th>StudentUniqueID</th>\n",
              "      <th>LastSurname</th>\n",
              "      <th>FirstName</th>\n",
              "      <th>GradeLevel</th>\n",
              "      <th>NumberOfSchoolTardies</th>\n",
              "      <th>NumberOfTotalAbsences</th>\n",
              "      <th>Average Absence</th>\n",
              "    </tr>\n",
              "  </thead>\n",
              "  <tbody>\n",
              "    <tr>\n",
              "      <th>0</th>\n",
              "      <td>CICS Prairie</td>\n",
              "      <td>50252756</td>\n",
              "      <td>Huizar Perez</td>\n",
              "      <td>Anthony</td>\n",
              "      <td>6</td>\n",
              "      <td>0</td>\n",
              "      <td>66</td>\n",
              "      <td>5</td>\n",
              "    </tr>\n",
              "    <tr>\n",
              "      <th>1</th>\n",
              "      <td>CICS Bucktown</td>\n",
              "      <td>50353442</td>\n",
              "      <td>Turner</td>\n",
              "      <td>Aiden</td>\n",
              "      <td>4</td>\n",
              "      <td>0</td>\n",
              "      <td>51</td>\n",
              "      <td>5</td>\n",
              "    </tr>\n",
              "    <tr>\n",
              "      <th>2</th>\n",
              "      <td>DCP Harper Woods</td>\n",
              "      <td>50000275</td>\n",
              "      <td>Smith</td>\n",
              "      <td>Paris</td>\n",
              "      <td>3</td>\n",
              "      <td>15</td>\n",
              "      <td>44</td>\n",
              "      <td>5</td>\n",
              "    </tr>\n",
              "    <tr>\n",
              "      <th>3</th>\n",
              "      <td>DCP Harper Woods</td>\n",
              "      <td>50000072</td>\n",
              "      <td>Phillips</td>\n",
              "      <td>Brandon</td>\n",
              "      <td>4</td>\n",
              "      <td>14</td>\n",
              "      <td>43</td>\n",
              "      <td>5</td>\n",
              "    </tr>\n",
              "    <tr>\n",
              "      <th>4</th>\n",
              "      <td>DCP Redford</td>\n",
              "      <td>2018249</td>\n",
              "      <td>Goforth</td>\n",
              "      <td>Brian</td>\n",
              "      <td>2</td>\n",
              "      <td>4</td>\n",
              "      <td>41</td>\n",
              "      <td>5</td>\n",
              "    </tr>\n",
              "  </tbody>\n",
              "</table>\n",
              "</div>"
            ],
            "text/plain": [
              "  NameOfInstitution  StudentUniqueID  ... NumberOfTotalAbsences Average Absence\n",
              "0      CICS Prairie         50252756  ...                    66               5\n",
              "1     CICS Bucktown         50353442  ...                    51               5\n",
              "2  DCP Harper Woods         50000275  ...                    44               5\n",
              "3  DCP Harper Woods         50000072  ...                    43               5\n",
              "4       DCP Redford          2018249  ...                    41               5\n",
              "\n",
              "[5 rows x 8 columns]"
            ]
          },
          "metadata": {
            "tags": []
          },
          "execution_count": 9
        }
      ]
    },
    {
      "cell_type": "code",
      "metadata": {
        "id": "Mx4nubANyLXf",
        "colab_type": "code",
        "colab": {}
      },
      "source": [
        "links = dict(zip(dname.Campus, dname.Link))"
      ],
      "execution_count": 0,
      "outputs": []
    },
    {
      "cell_type": "code",
      "metadata": {
        "id": "w7fCIve3h4HW",
        "colab_type": "code",
        "outputId": "141cc09d-1e51-47d1-a6bb-5218f5f81d28",
        "colab": {
          "base_uri": "https://localhost:8080/",
          "height": 139
        }
      },
      "source": [
        "links"
      ],
      "execution_count": 11,
      "outputs": [
        {
          "output_type": "execute_result",
          "data": {
            "text/plain": [
              "{'CICS Bucktown': 'https://www.cicsbucktown.org/uploads/8/4/9/1/84911918/published/cics-bucktown-horz.png?1531843975',\n",
              " 'CICS Irving Park': 'https://www.cicsirvingpark.org/uploads/8/4/9/1/84911918/published/cics-irving-park-horz.png?1531844890',\n",
              " 'CICS Prairie': 'https://www.cicsprairie.org/uploads/8/4/9/1/84911918/published/cics-prairie-horz.png?1531844962',\n",
              " 'CICS West Belden': 'https://www.cicswestbelden.org/uploads/8/4/9/1/84911918/published/cics-west-belden-horz.png?1531845057',\n",
              " 'DCP Harper Woods': 'https://www.dcpharperwoods.org/uploads/8/4/9/1/84911918/dscp-stacked-horizontal.png',\n",
              " 'DCP Redford': 'https://www.dcpharperwoods.org/uploads/8/4/9/1/84911918/dscp-stacked-horizontal.png'}"
            ]
          },
          "metadata": {
            "tags": []
          },
          "execution_count": 11
        }
      ]
    },
    {
      "cell_type": "code",
      "metadata": {
        "id": "jYJO89V2xySo",
        "colab_type": "code",
        "colab": {}
      },
      "source": [
        "#Make a dictionary matching the campus to Director names\n",
        "dnames = dict(zip(dname.Campus, dname.Director))"
      ],
      "execution_count": 0,
      "outputs": []
    },
    {
      "cell_type": "code",
      "metadata": {
        "id": "QNmQc8BJ3_1w",
        "colab_type": "code",
        "outputId": "96b58f3e-1800-48c6-d25c-36429a05fb35",
        "colab": {
          "base_uri": "https://localhost:8080/",
          "height": 119
        }
      },
      "source": [
        "dnames"
      ],
      "execution_count": 13,
      "outputs": [
        {
          "output_type": "execute_result",
          "data": {
            "text/plain": [
              "{'CICS Bucktown': \"Ms. Sarah O'Connell\",\n",
              " 'CICS Irving Park': 'Mr. JW Kuebler',\n",
              " 'CICS Prairie': 'Ms. Jennifer Harth',\n",
              " 'CICS West Belden': 'Ms. Colleen Collins',\n",
              " 'DCP Harper Woods': 'Ms. Cassie Williams',\n",
              " 'DCP Redford': 'Ms. Camille Hibbler'}"
            ]
          },
          "metadata": {
            "tags": []
          },
          "execution_count": 13
        }
      ]
    },
    {
      "cell_type": "markdown",
      "metadata": {
        "id": "MCL_1RcUk-RZ",
        "colab_type": "text"
      },
      "source": [
        "# Create the letter"
      ]
    },
    {
      "cell_type": "code",
      "metadata": {
        "id": "LOSn831VBV5-",
        "colab_type": "code",
        "outputId": "af870b47-849b-44c9-fa29-d47d4b2b1280",
        "colab": {
          "base_uri": "https://localhost:8080/",
          "height": 51
        }
      },
      "source": [
        "!pip3 install reportlab"
      ],
      "execution_count": 17,
      "outputs": [
        {
          "output_type": "stream",
          "text": [
            "Requirement already satisfied: reportlab in /usr/local/lib/python3.6/dist-packages (3.5.34)\n",
            "Requirement already satisfied: pillow>=4.0.0 in /usr/local/lib/python3.6/dist-packages (from reportlab) (6.2.2)\n"
          ],
          "name": "stdout"
        }
      ]
    },
    {
      "cell_type": "code",
      "metadata": {
        "id": "IWfeWqviEKwG",
        "colab_type": "code",
        "colab": {}
      },
      "source": [
        "import os\n",
        "\n",
        "def createFolder(directory):\n",
        "\n",
        "    try:\n",
        "        if not os.path.exists(directory):\n",
        "            os.makedirs(directory)\n",
        "    except OSError:\n",
        "        print ('Error: Creating directory. ' +  directory)\n",
        "        \n",
        "\n"
      ],
      "execution_count": 0,
      "outputs": []
    },
    {
      "cell_type": "code",
      "metadata": {
        "id": "pp2D4VxYGCL4",
        "colab_type": "code",
        "colab": {}
      },
      "source": [
        "from reportlab.lib import colors\n",
        "from reportlab.graphics.shapes import Drawing, String\n",
        "from reportlab.graphics.charts.barcharts import HorizontalBarChart\n",
        "\n",
        "\n",
        "def make_drawing(row):\n",
        "    drawing = Drawing()\n",
        "    data = [(row['NumberOfTotalAbsences'], row['Average Absence']),]\n",
        "    names = [row['FirstName'], 'Classmates']\n",
        "    \n",
        "    bc = HorizontalBarChart()\n",
        "    bc.x = 20\n",
        "    bc.y = 50\n",
        "    bc.height = 150\n",
        "    bc.width = 400\n",
        "    bc.data = data\n",
        "    bc.strokeColor = colors.black\n",
        "    bc.valueAxis.valueMin = 0\n",
        "    bc.valueAxis.visibleGrid = True\n",
        "    bc.valueAxis.valueMax = 70\n",
        "    bc.valueAxis.valueStep = 10\n",
        "\n",
        "    bc.barLabels.fontName = \"Helvetica\"\n",
        "    bc.barLabels.fontSize = 12\n",
        "    bc.barLabelFormat = '%d'\n",
        "    bc.barLabels.nudge = 7\n",
        "    \n",
        "    bc.categoryAxis.labels.boxAnchor = 'ne'\n",
        "    bc.categoryAxis.labels.dx = -10\n",
        "    bc.categoryAxis.labels.dy = 0 \n",
        "    bc.categoryAxis.labels.fontName = 'Helvetica'\n",
        "    bc.categoryAxis.categoryNames = names\n",
        "    \n",
        "    bc.valueAxis.visible = True\n",
        "    #Customize the color of the bars  \n",
        "    bc.bars[(0, 0)].fillColor = colors.steelblue \n",
        "    bc.bars[(0, 1)].fillColor = colors.lightsteelblue\n",
        "    drawing.add(bc)\n",
        "\n",
        "    return drawing"
      ],
      "execution_count": 0,
      "outputs": []
    },
    {
      "cell_type": "code",
      "metadata": {
        "id": "X9D4qZkF4H9n",
        "colab_type": "code",
        "colab": {}
      },
      "source": [
        "import datetime\n",
        "from reportlab.lib.enums import TA_JUSTIFY\n",
        "from reportlab.lib.pagesizes import letter\n",
        "from reportlab.platypus import SimpleDocTemplate, Paragraph, Spacer, Image\n",
        "from reportlab.lib.styles import getSampleStyleSheet, ParagraphStyle\n",
        "from reportlab.lib.units import inch\n",
        "from reportlab.platypus import PageBreak\n",
        "from reportlab.lib.utils import ImageReader\n",
        " \n",
        "def build_a_letter(row):\n",
        "    '''\n",
        "    Input: dataframe row\n",
        "    Output: pdf file named after studentID\n",
        "    '''\n",
        "\n",
        "\n",
        "    #I name the pdf name after the StudentID\n",
        "    name = str(row['StudentUniqueID'])+'.pdf'\n",
        "    full_name = row['FirstName']+' ' + row['LastSurname']\n",
        "    school_name = row.NameOfInstitution\n",
        "    grade = str(row.GradeLevel)\n",
        "\n",
        "    outfiledir = data_dir+str(school_name)+'/'+grade+'/'\n",
        "    createFolder(outfiledir)\n",
        "    outfilepath = os.path.join(outfiledir, name)\n",
        "    print(outfilepath)\n",
        "\n",
        "    doc = SimpleDocTemplate(outfilepath, pagesize=letter,\n",
        "                        rightMargin=72,leftMargin=72,\n",
        "                        topMargin=72,bottomMargin=18)\n",
        "    Story=[]\n",
        "\n",
        "    if school_name == 'DCP Harper Woods' or school_name =='DCP Redford':\n",
        "      logo = Image(links[school_name], width=2*inch, height=0.42*inch, kind='proportional')\n",
        "    else:\n",
        "      logo = Image(links[school_name])\n",
        "    formatted_time = datetime.date.today().strftime(\"%B %d, %Y\")\n",
        "    NumberOfTotalAbsences = str(row.NumberOfTotalAbsences)\n",
        "    story = []\n",
        "    #Set the logo \n",
        "    Story.append(logo)\n",
        "     \n",
        "    styles=getSampleStyleSheet()\n",
        "    styles.add(ParagraphStyle(name='Justify', alignment=TA_JUSTIFY))\n",
        "    ptext = '<font size=12>%s</font>' % formatted_time\n",
        "     \n",
        "    Story.append(Paragraph(ptext, styles[\"Normal\"]))\n",
        "    Story.append(Spacer(1, 24))\n",
        "     \n",
        "    ptext = '<font size=12>Dear Family of %s: </font>' % (full_name)\n",
        "    Story.append(Paragraph(ptext, styles[\"Justify\"]))\n",
        "    ptext = '<font size=12>We are writing to you because <b>our records show \\\n",
        "             that your child has missed more than 10 percent of the school year\\\n",
        "              to date.</b> Please understand that all absences are seen as \\\n",
        "              unexcused until proper documentation is presented in accordance \\\n",
        "              with the school handbook .</font>'\n",
        "    Story.append(Paragraph(ptext, styles[\"Justify\"]))\n",
        "    Story.append(Spacer(1, 12))\n",
        "\n",
        "    ptext = '<font size=12>At %s, <u>we expect all students to attend school on time,\\\n",
        "     every day.</u>  Daily attendance is the first and most important step in ensuring\\\n",
        "      academic success. Our goal is to teach a sense of responsibility among students\\\n",
        "       by holding them accountable for <u>being at school regularly</u>, on time, and for the\\\n",
        "        <u>entire</u> school day. Below, you will see a comparison of how often your child \\\n",
        "        has been absent vs. average days absent for someone in the same grade.</font>' % (school_name)\n",
        "    Story.append(Paragraph(ptext, styles[\"Justify\"]))\n",
        "    Story.append(Spacer(1, 12))\n",
        "     \n",
        "     \n",
        "    ptext = '<font size=12>Because we care about your child’s success and well being, \\\n",
        "    we will follow up with you soon by phone.  We will also schedule a time for you to \\\n",
        "    come to school for a meeting, with the goal being to identify the factors contributing\\\n",
        "     to your child’s absenteeism, discuss ways we can improve your child’s attendance this \\\n",
        "     year, and commit to a plan of action together. We value home-school partnerships, and \\\n",
        "     we are eager to work with you to improve your student’s attendance.</font>'\n",
        "    Story.append(Paragraph(ptext, styles[\"Justify\"]))\n",
        "    Story.append(Spacer(1, 12))\n",
        "    ptext = '<font size=12>Please take some time to review our network attendance policy, \\\n",
        "    and reach out if you have questions or require support.  Thank you for your attention \\\n",
        "    to this matter, and thank you in advance for your partnership and a dedication to \\\n",
        "    ensuring that your child is set up for success in school.</font>'\n",
        "    Story.append(Paragraph(ptext, styles[\"Justify\"]))\n",
        "    Story.append(Spacer(1, 12))\n",
        "    ptext = '<font size=12>Sincerely,</font>'\n",
        "    Story.append(Paragraph(ptext, styles[\"Normal\"]))\n",
        "    Story.append(Spacer(1, 24))\n",
        "    ptext = '<font size=12>%s</font>'% (dnames[school_name])\n",
        "    Story.append(Paragraph(ptext, styles[\"Normal\"]))\n",
        "    ptext = '<font size=12>Director, %s</font>'% (school_name)\n",
        "    Story.append(Paragraph(ptext, styles[\"Normal\"]))\n",
        "    Story.append(PageBreak()) \n",
        "    \n",
        "    #Second page spanish version\n",
        "    Story.append(logo)\n",
        "     \n",
        "    styles=getSampleStyleSheet()\n",
        "    styles.add(ParagraphStyle(name='Justify', alignment=TA_JUSTIFY))\n",
        "    ptext = '<font size=12>%s</font>' % formatted_time\n",
        "     \n",
        "    Story.append(Paragraph(ptext, styles[\"Normal\"]))\n",
        "    Story.append(Spacer(1, 12))\n",
        "     \n",
        "\n",
        "    ptext = '<font size=12>Dear Family of %s: </font>' % (full_name)\n",
        "    Story.append(Paragraph(ptext, styles[\"Justify\"]))\n",
        "    ptext = '<font size=12>We are writing to you because <b>our records show \\\n",
        "             that your child has missed more than 10 percent of the school year\\\n",
        "              to date.</b> Please understand that all absences are seen as \\\n",
        "              unexcused until proper documentation is presented in accordance \\\n",
        "              with the school handbook .</font>'\n",
        "    Story.append(Paragraph(ptext, styles[\"Justify\"]))\n",
        "    Story.append(Spacer(1, 12))\n",
        "\n",
        "    ptext = '<font size=12>At %s, <u>we expect all students to attend school on time,\\\n",
        "     every day.</u>  Daily attendance is the first and most important step in ensuring\\\n",
        "      academic success. Our goal is to teach a sense of responsibility among students\\\n",
        "       by holding them accountable for <u>being at school regularly</u>, on time, and for the\\\n",
        "        <u>entire</u> school day. Below, you will see a comparison of how often your child \\\n",
        "        has been absent vs. average days absent for someone in the same grade.</font>' % (school_name)\n",
        "    Story.append(Paragraph(ptext, styles[\"Justify\"]))\n",
        "    Story.append(Spacer(1, 12))\n",
        "     \n",
        "     \n",
        "    ptext = '<font size=12>Because we care about your child’s success and well being, \\\n",
        "    we will follow up with you soon by phone.  We will also schedule a time for you to \\\n",
        "    come to school for a meeting, with the goal being to identify the factors contributing\\\n",
        "     to your child’s absenteeism, discuss ways we can improve your child’s attendance this \\\n",
        "     year, and commit to a plan of action together. We value home-school partnerships, and \\\n",
        "     we are eager to work with you to improve your student’s attendance.</font>'\n",
        "    Story.append(Paragraph(ptext, styles[\"Justify\"]))\n",
        "    Story.append(Spacer(1, 12))\n",
        "    ptext = '<font size=12>Please take some time to review our network attendance policy, \\\n",
        "    and reach out if you have questions or require support.  Thank you for your attention \\\n",
        "    to this matter, and thank you in advance for your partnership and a dedication to \\\n",
        "    ensuring that your child is set up for success in school.</font>'\n",
        "    Story.append(Paragraph(ptext, styles[\"Justify\"]))\n",
        "    Story.append(Spacer(1, 12))\n",
        "    ptext = '<font size=12>Sincerely,</font>'\n",
        "    Story.append(Paragraph(ptext, styles[\"Normal\"]))\n",
        "    Story.append(Spacer(1, 24))\n",
        "    ptext = '<font size=12>%s</font>'% (dnames[school_name])\n",
        "    Story.append(Paragraph(ptext, styles[\"Normal\"]))\n",
        "    ptext = '<font size=12>Director, %s</font>'% (school_name)\n",
        "    Story.append(Paragraph(ptext, styles[\"Normal\"]))\n",
        "    Story.append(PageBreak()) \n",
        "\n",
        "    #Third page barchart\n",
        "    title_style = styles['Heading1']\n",
        "    title_style.alignment = 1\n",
        "    title = Paragraph(\"Attendance Summary\", title_style)\n",
        "    Story.append(title)\n",
        "    Story.append(Spacer(1, 24))\n",
        "    pic = make_drawing(row)\n",
        "    Story.append(pic)\n",
        "\n",
        "    doc.build(Story)"
      ],
      "execution_count": 0,
      "outputs": []
    },
    {
      "cell_type": "code",
      "metadata": {
        "id": "krWkXc1BiSPO",
        "colab_type": "code",
        "colab": {
          "base_uri": "https://localhost:8080/",
          "height": 34
        },
        "outputId": "77c34f2c-2b80-405b-a7a0-2d2949932fe3"
      },
      "source": [
        "for i in range(1):\n",
        "  build_a_letter(df.loc[i])"
      ],
      "execution_count": 80,
      "outputs": [
        {
          "output_type": "stream",
          "text": [
            "/content/gdrive/My Drive/Chronic_absenteeism_letter/CICS Prairie/6/50252756.pdf\n"
          ],
          "name": "stdout"
        }
      ]
    },
    {
      "cell_type": "code",
      "metadata": {
        "id": "cLxyRcU79L-a",
        "colab_type": "code",
        "outputId": "be5d823d-7ead-4cbe-8bc6-74fcc19648c8",
        "colab": {
          "base_uri": "https://localhost:8080/",
          "height": 241
        }
      },
      "source": [
        "df.head()"
      ],
      "execution_count": 21,
      "outputs": [
        {
          "output_type": "execute_result",
          "data": {
            "text/html": [
              "<div>\n",
              "<style scoped>\n",
              "    .dataframe tbody tr th:only-of-type {\n",
              "        vertical-align: middle;\n",
              "    }\n",
              "\n",
              "    .dataframe tbody tr th {\n",
              "        vertical-align: top;\n",
              "    }\n",
              "\n",
              "    .dataframe thead th {\n",
              "        text-align: right;\n",
              "    }\n",
              "</style>\n",
              "<table border=\"1\" class=\"dataframe\">\n",
              "  <thead>\n",
              "    <tr style=\"text-align: right;\">\n",
              "      <th></th>\n",
              "      <th>NameOfInstitution</th>\n",
              "      <th>StudentUniqueID</th>\n",
              "      <th>LastSurname</th>\n",
              "      <th>FirstName</th>\n",
              "      <th>GradeLevel</th>\n",
              "      <th>NumberOfSchoolTardies</th>\n",
              "      <th>NumberOfTotalAbsences</th>\n",
              "      <th>Average Absence</th>\n",
              "    </tr>\n",
              "  </thead>\n",
              "  <tbody>\n",
              "    <tr>\n",
              "      <th>0</th>\n",
              "      <td>CICS Prairie</td>\n",
              "      <td>50252756</td>\n",
              "      <td>Huizar Perez</td>\n",
              "      <td>Anthony</td>\n",
              "      <td>6</td>\n",
              "      <td>0</td>\n",
              "      <td>66</td>\n",
              "      <td>5</td>\n",
              "    </tr>\n",
              "    <tr>\n",
              "      <th>1</th>\n",
              "      <td>CICS Bucktown</td>\n",
              "      <td>50353442</td>\n",
              "      <td>Turner</td>\n",
              "      <td>Aiden</td>\n",
              "      <td>4</td>\n",
              "      <td>0</td>\n",
              "      <td>51</td>\n",
              "      <td>5</td>\n",
              "    </tr>\n",
              "    <tr>\n",
              "      <th>2</th>\n",
              "      <td>DCP Harper Woods</td>\n",
              "      <td>50000275</td>\n",
              "      <td>Smith</td>\n",
              "      <td>Paris</td>\n",
              "      <td>3</td>\n",
              "      <td>15</td>\n",
              "      <td>44</td>\n",
              "      <td>5</td>\n",
              "    </tr>\n",
              "    <tr>\n",
              "      <th>3</th>\n",
              "      <td>DCP Harper Woods</td>\n",
              "      <td>50000072</td>\n",
              "      <td>Phillips</td>\n",
              "      <td>Brandon</td>\n",
              "      <td>4</td>\n",
              "      <td>14</td>\n",
              "      <td>43</td>\n",
              "      <td>5</td>\n",
              "    </tr>\n",
              "    <tr>\n",
              "      <th>4</th>\n",
              "      <td>DCP Redford</td>\n",
              "      <td>2018249</td>\n",
              "      <td>Goforth</td>\n",
              "      <td>Brian</td>\n",
              "      <td>2</td>\n",
              "      <td>4</td>\n",
              "      <td>41</td>\n",
              "      <td>5</td>\n",
              "    </tr>\n",
              "  </tbody>\n",
              "</table>\n",
              "</div>"
            ],
            "text/plain": [
              "  NameOfInstitution  StudentUniqueID  ... NumberOfTotalAbsences Average Absence\n",
              "0      CICS Prairie         50252756  ...                    66               5\n",
              "1     CICS Bucktown         50353442  ...                    51               5\n",
              "2  DCP Harper Woods         50000275  ...                    44               5\n",
              "3  DCP Harper Woods         50000072  ...                    43               5\n",
              "4       DCP Redford          2018249  ...                    41               5\n",
              "\n",
              "[5 rows x 8 columns]"
            ]
          },
          "metadata": {
            "tags": []
          },
          "execution_count": 21
        }
      ]
    },
    {
      "cell_type": "code",
      "metadata": {
        "id": "tRytWcYvqUzs",
        "colab_type": "code",
        "colab": {
          "base_uri": "https://localhost:8080/",
          "height": 85
        },
        "outputId": "b5233077-4dfd-4b41-beb5-fbf8f3c01577"
      },
      "source": [
        "!ls /content/gdrive/My\\ Drive/Chronic_absenteeism_letter/"
      ],
      "execution_count": 73,
      "outputs": [
        {
          "output_type": "stream",
          "text": [
            "'Chronic Absence - Absence List Import.csv'    'CICS Bucktown'\n",
            "'Chronic Absence Letter #1 - Jan '\\''20.docx'  'CICS Prairie'\n",
            "'Chronic Absence.xlsx'\t\t\t       'DCP Harper Woods'\n",
            " Chronic_Absenteeism.ipynb\t\t       'DCP Redford'\n"
          ],
          "name": "stdout"
        }
      ]
    },
    {
      "cell_type": "code",
      "metadata": {
        "id": "QQc-ThHlspzo",
        "colab_type": "code",
        "colab": {
          "base_uri": "https://localhost:8080/",
          "height": 34
        },
        "outputId": "b943404f-c5b6-438b-aca9-e64e5264c6ee"
      },
      "source": [
        "data_dir"
      ],
      "execution_count": 74,
      "outputs": [
        {
          "output_type": "execute_result",
          "data": {
            "text/plain": [
              "'/content/gdrive/My Drive/Chronic_absenteeism_letter/'"
            ]
          },
          "metadata": {
            "tags": []
          },
          "execution_count": 74
        }
      ]
    },
    {
      "cell_type": "markdown",
      "metadata": {
        "id": "TBCWB_KFk6bK",
        "colab_type": "text"
      },
      "source": [
        "# Bigquery"
      ]
    },
    {
      "cell_type": "code",
      "metadata": {
        "id": "n9TQPjk4rBEB",
        "colab_type": "code",
        "outputId": "ad1b9fa4-4955-4410-808e-7e525547683a",
        "colab": {
          "base_uri": "https://localhost:8080/",
          "height": 548
        }
      },
      "source": [
        "from google.colab import auth\n",
        "auth.authenticate_user()\n",
        "print('Authenticated')"
      ],
      "execution_count": 0,
      "outputs": [
        {
          "output_type": "error",
          "ename": "KeyboardInterrupt",
          "evalue": "ignored",
          "traceback": [
            "\u001b[0;31m---------------------------------------------------------------------------\u001b[0m",
            "\u001b[0;31mKeyboardInterrupt\u001b[0m                         Traceback (most recent call last)",
            "\u001b[0;32m/usr/local/lib/python3.6/dist-packages/ipykernel/kernelbase.py\u001b[0m in \u001b[0;36m_input_request\u001b[0;34m(self, prompt, ident, parent, password)\u001b[0m\n\u001b[1;32m    729\u001b[0m             \u001b[0;32mtry\u001b[0m\u001b[0;34m:\u001b[0m\u001b[0;34m\u001b[0m\u001b[0;34m\u001b[0m\u001b[0m\n\u001b[0;32m--> 730\u001b[0;31m                 \u001b[0mident\u001b[0m\u001b[0;34m,\u001b[0m \u001b[0mreply\u001b[0m \u001b[0;34m=\u001b[0m \u001b[0mself\u001b[0m\u001b[0;34m.\u001b[0m\u001b[0msession\u001b[0m\u001b[0;34m.\u001b[0m\u001b[0mrecv\u001b[0m\u001b[0;34m(\u001b[0m\u001b[0mself\u001b[0m\u001b[0;34m.\u001b[0m\u001b[0mstdin_socket\u001b[0m\u001b[0;34m,\u001b[0m \u001b[0;36m0\u001b[0m\u001b[0;34m)\u001b[0m\u001b[0;34m\u001b[0m\u001b[0;34m\u001b[0m\u001b[0m\n\u001b[0m\u001b[1;32m    731\u001b[0m             \u001b[0;32mexcept\u001b[0m \u001b[0mException\u001b[0m\u001b[0;34m:\u001b[0m\u001b[0;34m\u001b[0m\u001b[0;34m\u001b[0m\u001b[0m\n",
            "\u001b[0;32m/usr/local/lib/python3.6/dist-packages/jupyter_client/session.py\u001b[0m in \u001b[0;36mrecv\u001b[0;34m(self, socket, mode, content, copy)\u001b[0m\n\u001b[1;32m    802\u001b[0m         \u001b[0;32mtry\u001b[0m\u001b[0;34m:\u001b[0m\u001b[0;34m\u001b[0m\u001b[0;34m\u001b[0m\u001b[0m\n\u001b[0;32m--> 803\u001b[0;31m             \u001b[0mmsg_list\u001b[0m \u001b[0;34m=\u001b[0m \u001b[0msocket\u001b[0m\u001b[0;34m.\u001b[0m\u001b[0mrecv_multipart\u001b[0m\u001b[0;34m(\u001b[0m\u001b[0mmode\u001b[0m\u001b[0;34m,\u001b[0m \u001b[0mcopy\u001b[0m\u001b[0;34m=\u001b[0m\u001b[0mcopy\u001b[0m\u001b[0;34m)\u001b[0m\u001b[0;34m\u001b[0m\u001b[0;34m\u001b[0m\u001b[0m\n\u001b[0m\u001b[1;32m    804\u001b[0m         \u001b[0;32mexcept\u001b[0m \u001b[0mzmq\u001b[0m\u001b[0;34m.\u001b[0m\u001b[0mZMQError\u001b[0m \u001b[0;32mas\u001b[0m \u001b[0me\u001b[0m\u001b[0;34m:\u001b[0m\u001b[0;34m\u001b[0m\u001b[0;34m\u001b[0m\u001b[0m\n",
            "\u001b[0;32m/usr/local/lib/python3.6/dist-packages/zmq/sugar/socket.py\u001b[0m in \u001b[0;36mrecv_multipart\u001b[0;34m(self, flags, copy, track)\u001b[0m\n\u001b[1;32m    465\u001b[0m         \"\"\"\n\u001b[0;32m--> 466\u001b[0;31m         \u001b[0mparts\u001b[0m \u001b[0;34m=\u001b[0m \u001b[0;34m[\u001b[0m\u001b[0mself\u001b[0m\u001b[0;34m.\u001b[0m\u001b[0mrecv\u001b[0m\u001b[0;34m(\u001b[0m\u001b[0mflags\u001b[0m\u001b[0;34m,\u001b[0m \u001b[0mcopy\u001b[0m\u001b[0;34m=\u001b[0m\u001b[0mcopy\u001b[0m\u001b[0;34m,\u001b[0m \u001b[0mtrack\u001b[0m\u001b[0;34m=\u001b[0m\u001b[0mtrack\u001b[0m\u001b[0;34m)\u001b[0m\u001b[0;34m]\u001b[0m\u001b[0;34m\u001b[0m\u001b[0;34m\u001b[0m\u001b[0m\n\u001b[0m\u001b[1;32m    467\u001b[0m         \u001b[0;31m# have first part already, only loop while more to receive\u001b[0m\u001b[0;34m\u001b[0m\u001b[0;34m\u001b[0m\u001b[0;34m\u001b[0m\u001b[0m\n",
            "\u001b[0;32mzmq/backend/cython/socket.pyx\u001b[0m in \u001b[0;36mzmq.backend.cython.socket.Socket.recv\u001b[0;34m()\u001b[0m\n",
            "\u001b[0;32mzmq/backend/cython/socket.pyx\u001b[0m in \u001b[0;36mzmq.backend.cython.socket.Socket.recv\u001b[0;34m()\u001b[0m\n",
            "\u001b[0;32mzmq/backend/cython/socket.pyx\u001b[0m in \u001b[0;36mzmq.backend.cython.socket._recv_copy\u001b[0;34m()\u001b[0m\n",
            "\u001b[0;32m/usr/local/lib/python3.6/dist-packages/zmq/backend/cython/checkrc.pxd\u001b[0m in \u001b[0;36mzmq.backend.cython.checkrc._check_rc\u001b[0;34m()\u001b[0m\n",
            "\u001b[0;31mKeyboardInterrupt\u001b[0m: ",
            "\nDuring handling of the above exception, another exception occurred:\n",
            "\u001b[0;31mKeyboardInterrupt\u001b[0m                         Traceback (most recent call last)",
            "\u001b[0;32m<ipython-input-14-93f8cbc33ddf>\u001b[0m in \u001b[0;36m<module>\u001b[0;34m()\u001b[0m\n\u001b[1;32m      1\u001b[0m \u001b[0;32mfrom\u001b[0m \u001b[0mgoogle\u001b[0m\u001b[0;34m.\u001b[0m\u001b[0mcolab\u001b[0m \u001b[0;32mimport\u001b[0m \u001b[0mauth\u001b[0m\u001b[0;34m\u001b[0m\u001b[0;34m\u001b[0m\u001b[0m\n\u001b[0;32m----> 2\u001b[0;31m \u001b[0mauth\u001b[0m\u001b[0;34m.\u001b[0m\u001b[0mauthenticate_user\u001b[0m\u001b[0;34m(\u001b[0m\u001b[0;34m)\u001b[0m\u001b[0;34m\u001b[0m\u001b[0;34m\u001b[0m\u001b[0m\n\u001b[0m\u001b[1;32m      3\u001b[0m \u001b[0mprint\u001b[0m\u001b[0;34m(\u001b[0m\u001b[0;34m'Authenticated'\u001b[0m\u001b[0;34m)\u001b[0m\u001b[0;34m\u001b[0m\u001b[0;34m\u001b[0m\u001b[0m\n",
            "\u001b[0;32m/usr/local/lib/python3.6/dist-packages/google/colab/auth.py\u001b[0m in \u001b[0;36mauthenticate_user\u001b[0;34m(clear_output)\u001b[0m\n\u001b[1;32m    145\u001b[0m     \u001b[0mcontext_manager\u001b[0m \u001b[0;34m=\u001b[0m \u001b[0m_output\u001b[0m\u001b[0;34m.\u001b[0m\u001b[0mtemporary\u001b[0m \u001b[0;32mif\u001b[0m \u001b[0mclear_output\u001b[0m \u001b[0;32melse\u001b[0m \u001b[0m_noop\u001b[0m\u001b[0;34m\u001b[0m\u001b[0;34m\u001b[0m\u001b[0m\n\u001b[1;32m    146\u001b[0m     \u001b[0;32mwith\u001b[0m \u001b[0mcontext_manager\u001b[0m\u001b[0;34m(\u001b[0m\u001b[0;34m)\u001b[0m\u001b[0;34m:\u001b[0m\u001b[0;34m\u001b[0m\u001b[0;34m\u001b[0m\u001b[0m\n\u001b[0;32m--> 147\u001b[0;31m       \u001b[0m_gcloud_login\u001b[0m\u001b[0;34m(\u001b[0m\u001b[0;34m)\u001b[0m\u001b[0;34m\u001b[0m\u001b[0;34m\u001b[0m\u001b[0m\n\u001b[0m\u001b[1;32m    148\u001b[0m     \u001b[0m_install_adc\u001b[0m\u001b[0;34m(\u001b[0m\u001b[0;34m)\u001b[0m\u001b[0;34m\u001b[0m\u001b[0;34m\u001b[0m\u001b[0m\n\u001b[1;32m    149\u001b[0m     \u001b[0mcolab_tpu_addr\u001b[0m \u001b[0;34m=\u001b[0m \u001b[0m_os\u001b[0m\u001b[0;34m.\u001b[0m\u001b[0menviron\u001b[0m\u001b[0;34m.\u001b[0m\u001b[0mget\u001b[0m\u001b[0;34m(\u001b[0m\u001b[0;34m'COLAB_TPU_ADDR'\u001b[0m\u001b[0;34m,\u001b[0m \u001b[0;34m''\u001b[0m\u001b[0;34m)\u001b[0m\u001b[0;34m\u001b[0m\u001b[0;34m\u001b[0m\u001b[0m\n",
            "\u001b[0;32m/usr/local/lib/python3.6/dist-packages/google/colab/auth.py\u001b[0m in \u001b[0;36m_gcloud_login\u001b[0;34m()\u001b[0m\n\u001b[1;32m     89\u001b[0m     \u001b[0;31m# https://github.com/jupyter/notebook/issues/3159\u001b[0m\u001b[0;34m\u001b[0m\u001b[0;34m\u001b[0m\u001b[0;34m\u001b[0m\u001b[0m\n\u001b[1;32m     90\u001b[0m     \u001b[0mprompt\u001b[0m \u001b[0;34m=\u001b[0m \u001b[0mprompt\u001b[0m\u001b[0;34m.\u001b[0m\u001b[0mrstrip\u001b[0m\u001b[0;34m(\u001b[0m\u001b[0;34m)\u001b[0m\u001b[0;34m\u001b[0m\u001b[0;34m\u001b[0m\u001b[0m\n\u001b[0;32m---> 91\u001b[0;31m     \u001b[0mcode\u001b[0m \u001b[0;34m=\u001b[0m \u001b[0m_getpass\u001b[0m\u001b[0;34m.\u001b[0m\u001b[0mgetpass\u001b[0m\u001b[0;34m(\u001b[0m\u001b[0mprompt\u001b[0m \u001b[0;34m+\u001b[0m \u001b[0;34m'\\n\\nEnter verification code: '\u001b[0m\u001b[0;34m)\u001b[0m\u001b[0;34m\u001b[0m\u001b[0;34m\u001b[0m\u001b[0m\n\u001b[0m\u001b[1;32m     92\u001b[0m     \u001b[0mgcloud_process\u001b[0m\u001b[0;34m.\u001b[0m\u001b[0mcommunicate\u001b[0m\u001b[0;34m(\u001b[0m\u001b[0mcode\u001b[0m\u001b[0;34m.\u001b[0m\u001b[0mstrip\u001b[0m\u001b[0;34m(\u001b[0m\u001b[0;34m)\u001b[0m\u001b[0;34m)\u001b[0m\u001b[0;34m\u001b[0m\u001b[0;34m\u001b[0m\u001b[0m\n\u001b[1;32m     93\u001b[0m   \u001b[0;32mfinally\u001b[0m\u001b[0;34m:\u001b[0m\u001b[0;34m\u001b[0m\u001b[0;34m\u001b[0m\u001b[0m\n",
            "\u001b[0;32m/usr/local/lib/python3.6/dist-packages/ipykernel/kernelbase.py\u001b[0m in \u001b[0;36mgetpass\u001b[0;34m(self, prompt, stream)\u001b[0m\n\u001b[1;32m    686\u001b[0m             \u001b[0mself\u001b[0m\u001b[0;34m.\u001b[0m\u001b[0m_parent_ident\u001b[0m\u001b[0;34m,\u001b[0m\u001b[0;34m\u001b[0m\u001b[0;34m\u001b[0m\u001b[0m\n\u001b[1;32m    687\u001b[0m             \u001b[0mself\u001b[0m\u001b[0;34m.\u001b[0m\u001b[0m_parent_header\u001b[0m\u001b[0;34m,\u001b[0m\u001b[0;34m\u001b[0m\u001b[0;34m\u001b[0m\u001b[0m\n\u001b[0;32m--> 688\u001b[0;31m             \u001b[0mpassword\u001b[0m\u001b[0;34m=\u001b[0m\u001b[0;32mTrue\u001b[0m\u001b[0;34m,\u001b[0m\u001b[0;34m\u001b[0m\u001b[0;34m\u001b[0m\u001b[0m\n\u001b[0m\u001b[1;32m    689\u001b[0m         )\n\u001b[1;32m    690\u001b[0m \u001b[0;34m\u001b[0m\u001b[0m\n",
            "\u001b[0;32m/usr/local/lib/python3.6/dist-packages/ipykernel/kernelbase.py\u001b[0m in \u001b[0;36m_input_request\u001b[0;34m(self, prompt, ident, parent, password)\u001b[0m\n\u001b[1;32m    733\u001b[0m             \u001b[0;32mexcept\u001b[0m \u001b[0mKeyboardInterrupt\u001b[0m\u001b[0;34m:\u001b[0m\u001b[0;34m\u001b[0m\u001b[0;34m\u001b[0m\u001b[0m\n\u001b[1;32m    734\u001b[0m                 \u001b[0;31m# re-raise KeyboardInterrupt, to truncate traceback\u001b[0m\u001b[0;34m\u001b[0m\u001b[0;34m\u001b[0m\u001b[0;34m\u001b[0m\u001b[0m\n\u001b[0;32m--> 735\u001b[0;31m                 \u001b[0;32mraise\u001b[0m \u001b[0mKeyboardInterrupt\u001b[0m\u001b[0;34m\u001b[0m\u001b[0;34m\u001b[0m\u001b[0m\n\u001b[0m\u001b[1;32m    736\u001b[0m             \u001b[0;32melse\u001b[0m\u001b[0;34m:\u001b[0m\u001b[0;34m\u001b[0m\u001b[0;34m\u001b[0m\u001b[0m\n\u001b[1;32m    737\u001b[0m                 \u001b[0;32mbreak\u001b[0m\u001b[0;34m\u001b[0m\u001b[0;34m\u001b[0m\u001b[0m\n",
            "\u001b[0;31mKeyboardInterrupt\u001b[0m: "
          ]
        }
      ]
    },
    {
      "cell_type": "code",
      "metadata": {
        "id": "ZQ687UrtwP2-",
        "colab_type": "code",
        "colab": {}
      },
      "source": [
        "#Getting the original cohort's data\n",
        "\n",
        "%%bigquery --project ds-student-data bdf\n",
        "SELECT *\n",
        "FROM `ds-student-data.Distinctive.ChronicAbsence` \n"
      ],
      "execution_count": 0,
      "outputs": []
    },
    {
      "cell_type": "code",
      "metadata": {
        "id": "lxCsE0a6xNiv",
        "colab_type": "code",
        "colab": {}
      },
      "source": [
        "bdf.shape"
      ],
      "execution_count": 0,
      "outputs": []
    },
    {
      "cell_type": "code",
      "metadata": {
        "id": "VJgAm3U_vyP2",
        "colab_type": "code",
        "colab": {}
      },
      "source": [
        "bdf.head()"
      ],
      "execution_count": 0,
      "outputs": []
    },
    {
      "cell_type": "code",
      "metadata": {
        "id": "6p-05eOwxUMw",
        "colab_type": "code",
        "colab": {}
      },
      "source": [
        "bdf['NumberOfTotalAbsences'].mean()"
      ],
      "execution_count": 0,
      "outputs": []
    },
    {
      "cell_type": "code",
      "metadata": {
        "id": "ZgwGayc--z84",
        "colab_type": "code",
        "colab": {}
      },
      "source": [
        "#Use the total number of absences for all schools for schools whose average is above all average\n",
        "bdf['AverageAbsence'] = bdf['AverageAbsence'].apply(lambda x: 5.1 if x > 5.1 else x)"
      ],
      "execution_count": 0,
      "outputs": []
    },
    {
      "cell_type": "code",
      "metadata": {
        "id": "-RWjasl0xGdw",
        "colab_type": "code",
        "colab": {}
      },
      "source": [
        "bdf.tail()"
      ],
      "execution_count": 0,
      "outputs": []
    },
    {
      "cell_type": "code",
      "metadata": {
        "id": "-sMMX_t0-ux-",
        "colab_type": "code",
        "colab": {}
      },
      "source": [
        "#Calculated the Peer Average Absences in the same school\n",
        "#bdf['AverageAbsencePerSchool']=bdf.groupby(['NameOfInstitution'])['NumberOfTotalAbsences'].transform('mean')"
      ],
      "execution_count": 0,
      "outputs": []
    },
    {
      "cell_type": "code",
      "metadata": {
        "id": "BJABmmc96grL",
        "colab_type": "code",
        "colab": {}
      },
      "source": [
        "x=bdf.loc[0,'NumberOfTotalAbsences':].plot.barh() \n"
      ],
      "execution_count": 0,
      "outputs": []
    }
  ]
}